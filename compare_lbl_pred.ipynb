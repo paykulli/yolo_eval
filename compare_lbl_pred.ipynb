{
 "cells": [
  {
   "cell_type": "markdown",
   "id": "bd68809f",
   "metadata": {},
   "source": [
    "# Instructions\n",
    "Use this notebook to produce marked images with both model predictions and human labeling, only for images where there is a difference between the two. This can be used to find mistakes in human labeling as well as get a qualitative evaluation of the model (model fails to detect more than one of overlapping objects etc.). All labels should be in YOLO's txt format.\n",
    "1. Run \n",
    "`python detect.py --weights your_model.pt --source path_to_images/ --save-txt --save-conf --nosave`\n",
    "1. Put the path to the resulting model inferred `labels` folder in `path_a` \n",
    "1. Put the path to true labels in `path_b`\n",
    "1. Put the path to images in `path_img`\n",
    "1. Run this notebook\n",
    "1. Optional: tweak model parameters and repeat **Detect Differences** stage until results match your needs"
   ]
  },
  {
   "cell_type": "code",
   "execution_count": 1,
   "id": "3eb36fb5",
   "metadata": {},
   "outputs": [],
   "source": [
    "import os\n",
    "import cv2\n",
    "from tqdm.auto import tqdm"
   ]
  },
  {
   "cell_type": "markdown",
   "id": "9c3db577",
   "metadata": {},
   "source": [
    "## Model Parameters"
   ]
  },
  {
   "cell_type": "code",
   "execution_count": 2,
   "id": "134c5452",
   "metadata": {},
   "outputs": [],
   "source": [
    "conf_tres = 0.5\n",
    "iou_tres = 0.25\n",
    "nms_tres = 0.5\n",
    "cls_dict = {0: 'male', 1:'female'}"
   ]
  },
  {
   "cell_type": "markdown",
   "id": "5db669d2",
   "metadata": {},
   "source": [
    "## Paths"
   ]
  },
  {
   "cell_type": "code",
   "execution_count": 3,
   "id": "cd726541",
   "metadata": {},
   "outputs": [],
   "source": [
    "path_a = 'conf/'\n",
    "path_b = 'img/'\n",
    "path_img = 'img/'\n",
    "path_out = 'out/'"
   ]
  },
  {
   "cell_type": "markdown",
   "id": "36a57a84",
   "metadata": {},
   "source": [
    "## Graphic Parameters"
   ]
  },
  {
   "cell_type": "code",
   "execution_count": 4,
   "id": "e3e073bc",
   "metadata": {},
   "outputs": [],
   "source": [
    "img_extension = 'jpg'\n",
    "font = cv2.FONT_HERSHEY_SIMPLEX\n",
    "font_size = 1.5\n",
    "line_width = 2\n",
    "lbl_color = (200, 0, 0)\n",
    "pred_color = (0, 0, 200)"
   ]
  },
  {
   "cell_type": "markdown",
   "id": "e1eaa09c",
   "metadata": {},
   "source": [
    "# Functions"
   ]
  },
  {
   "cell_type": "code",
   "execution_count": 5,
   "id": "5403d826",
   "metadata": {},
   "outputs": [],
   "source": [
    "def line2dict(line):\n",
    "    str_list = line.split()\n",
    "    inst = dict(\n",
    "        cls = int(str_list[0]),\n",
    "        x1 = float(str_list[1]) - 0.5*float(str_list[3]),\n",
    "        y1 = float(str_list[2]) - 0.5*float(str_list[4]),\n",
    "        x2 = float(str_list[1]) + 0.5*float(str_list[3]),\n",
    "        y2 = float(str_list[2]) + 0.5*float(str_list[4]),\n",
    "    )\n",
    "    if len(str_list) > 5:\n",
    "        inst['conf'] = float(str_list[5])\n",
    "    return inst"
   ]
  },
  {
   "cell_type": "code",
   "execution_count": 6,
   "id": "bca0fa62",
   "metadata": {},
   "outputs": [],
   "source": [
    "def iou(inst_a, inst_b):\n",
    "    # intersection width\n",
    "    if inst_b['x1'] <= inst_a['x1'] <= inst_b['x2']:\n",
    "        if inst_a['x2'] <= inst_b['x2']:\n",
    "            intersection_w = inst_a['x2'] - inst_a['x1']\n",
    "        else:\n",
    "            intersection_w = inst_b['x2'] - inst_a['x1']\n",
    "            \n",
    "    elif inst_a['x1'] <= inst_b['x1'] <= inst_a['x2']:\n",
    "        if inst_b['x2'] <= inst_a['x2']:\n",
    "            intersection_w = inst_b['x2'] - inst_b['x1']\n",
    "        else:\n",
    "            intersection_w = inst_a['x2'] - inst_b['x1']\n",
    "    \n",
    "    else:\n",
    "        intersection_w = 0\n",
    "    \n",
    "    # intersection height\n",
    "    if inst_b['y1'] <= inst_a['y1'] <= inst_b['y2']:\n",
    "        if inst_a['y2'] <= inst_b['y2']:\n",
    "            intersection_h = inst_a['y2'] - inst_a['y1']\n",
    "        else:\n",
    "            intersection_h = inst_b['y2'] - inst_a['y1']\n",
    "            \n",
    "    elif inst_a['y1'] <= inst_b['y1'] <= inst_a['y2']:\n",
    "        if inst_b['y2'] <= inst_a['y2']:\n",
    "            intersection_h = inst_b['y2'] - inst_b['y1']\n",
    "        else:\n",
    "            intersection_h = inst_a['y2'] - inst_b['y1']\n",
    "    \n",
    "    else:\n",
    "        intersection_h = 0\n",
    "        \n",
    "    # IoU\n",
    "    intersection = intersection_w * intersection_h\n",
    "    area_a = (inst_a['x2'] - inst_a['x1']) * (inst_a['y2'] - inst_a['y1'])\n",
    "    area_b = (inst_b['x2'] - inst_b['x1']) * (inst_b['y2'] - inst_b['y1'])\n",
    "    union = area_a + area_b - intersection\n",
    "    iou = intersection / union\n",
    "    \n",
    "    return iou"
   ]
  },
  {
   "cell_type": "code",
   "execution_count": 7,
   "id": "d424a231",
   "metadata": {},
   "outputs": [],
   "source": [
    "def is_contained(inst_a, inst_b):\n",
    "    ret = ((inst_b['x1'] <= inst_a['x1'] <= inst_b['x2'] and \n",
    "            inst_b['x1'] <= inst_a['x2'] <= inst_b['x2'] and\n",
    "            inst_b['y1'] <= inst_a['y1'] <= inst_b['y2'] and\n",
    "            inst_b['y1'] <= inst_a['y2'] <= inst_b['y2']) or\n",
    "           (inst_a['x1'] <= inst_b['x1'] <= inst_a['x2'] and \n",
    "            inst_a['x1'] <= inst_b['x2'] <= inst_a['x2'] and\n",
    "            inst_a['y1'] <= inst_b['y1'] <= inst_a['y2'] and\n",
    "            inst_a['y1'] <= inst_b['y2'] <= inst_a['y2'])\n",
    "          )\n",
    "    return ret"
   ]
  },
  {
   "cell_type": "code",
   "execution_count": 8,
   "id": "4e6d6bd7",
   "metadata": {},
   "outputs": [],
   "source": [
    "def nms(pred_list, thres):\n",
    "    keep = [pred_list[0]] if len(pred_list) else []\n",
    "    for pred in pred_list[1:]:\n",
    "        for kept in keep:\n",
    "            if iou(kept, pred) > thres or is_contained(kept, pred):\n",
    "                break\n",
    "            keep.append(pred)\n",
    "        \n",
    "    return keep"
   ]
  },
  {
   "cell_type": "code",
   "execution_count": 9,
   "id": "bc1206d5",
   "metadata": {},
   "outputs": [],
   "source": [
    "def read_pred(path):\n",
    "    if not os.path.exists(path):\n",
    "        return []\n",
    "    with open(path) as f:\n",
    "        pred_list = nms([line2dict(line) for line in f if float(line.split()[-1]) >= conf_tres], nms_tres)\n",
    "    return pred_list"
   ]
  },
  {
   "cell_type": "code",
   "execution_count": 10,
   "id": "27323865",
   "metadata": {},
   "outputs": [],
   "source": [
    "def read_lbl(path):\n",
    "    with open(path) as f:\n",
    "        lbl_list = [line2dict(line) for line in f]\n",
    "    return lbl_list"
   ]
  },
  {
   "cell_type": "code",
   "execution_count": 11,
   "id": "6f196b85",
   "metadata": {},
   "outputs": [],
   "source": [
    "def mark_img(src, dst, pred_list, lbl_list):\n",
    "    # mark prediction and label on same file\n",
    "    img = cv2.imread(src)\n",
    "    y_coeff = img.shape[0]\n",
    "    x_coeff = img.shape[1]\n",
    "    \n",
    "    for lbl in lbl_list:\n",
    "        cls = cls_dict[lbl['cls']]\n",
    "        pos0 = (int(x_coeff*lbl['x1']), int(y_coeff*lbl['y1']))\n",
    "        pos1 = (int(x_coeff*lbl['x2']), int(y_coeff*lbl['y2']))\n",
    "        cv2.rectangle(img, pos0, pos1, lbl_color ,line_width)\n",
    "        cv2.putText(img, cls, (pos0[0], pos0[1]-int(5*font_size)), font, font_size, lbl_color, 3)\n",
    "        \n",
    "    for pred in pred_list:\n",
    "        cls = cls_dict[pred['cls']]\n",
    "        conf = pred['conf']\n",
    "        desc = ' '.join([cls, str(round(conf, 3))])\n",
    "        pos0 = (int(x_coeff*pred['x1']), int(y_coeff*pred['y1']))\n",
    "        pos1 = (int(x_coeff*pred['x2']), int(y_coeff*pred['y2']))\n",
    "        cv2.rectangle(img, pos0, pos1, pred_color ,line_width)\n",
    "        cv2.putText(img, desc, (pos0[0], pos1[1]+int(20*font_size)), font, font_size, pred_color, 3)\n",
    "        \n",
    "    cv2.imwrite(dst, cv2.cvtColor(img, cv2.COLOR_BGR2RGB))"
   ]
  },
  {
   "cell_type": "markdown",
   "id": "fcb57db2",
   "metadata": {},
   "source": [
    "## Detect Differences"
   ]
  },
  {
   "cell_type": "code",
   "execution_count": 12,
   "id": "fb846048",
   "metadata": {},
   "outputs": [
    {
     "data": {
      "application/vnd.jupyter.widget-view+json": {
       "model_id": "a16fd3d5bd5649e3800c7aad21f18861",
       "version_major": 2,
       "version_minor": 0
      },
      "text/plain": [
       "comparing:   0%|          | 0/365 [00:00<?, ?it/s]"
      ]
     },
     "metadata": {},
     "output_type": "display_data"
    }
   ],
   "source": [
    "txt_list = [f for f in os.listdir(path_b) if f[-4:] == '.txt']\n",
    "mislabels = []\n",
    "misses = []\n",
    "false_positives = []\n",
    "counters = {value: 0 for value in cls_dict.values()}\n",
    "log = ''\n",
    "\n",
    "for txt in tqdm(txt_list, desc='comparing'):\n",
    "    pred_list = read_pred(os.path.join(path_a, txt))\n",
    "    lbl_list = read_lbl(os.path.join(path_b, txt))\n",
    "    \n",
    "    for lbl in lbl_list:\n",
    "        hit = False\n",
    "        counters[cls_dict[lbl['cls']]] += 1\n",
    "        for pred in pred_list:\n",
    "            if iou(lbl, pred) >= iou_tres or is_contained(lbl, pred):\n",
    "                hit = True\n",
    "                if pred['cls'] != lbl['cls']:\n",
    "                    log += ' '.join([txt, cls_dict[lbl['cls']], 'mislabel']) + '\\n'\n",
    "                    mislabels.append(txt)\n",
    "                break\n",
    "        if not hit:\n",
    "            log += ' '.join([txt, cls_dict[lbl['cls']], 'miss']) + '\\n'\n",
    "            misses.append(txt)\n",
    "\n",
    "    for pred in pred_list:\n",
    "        hit = False\n",
    "        for lbl in lbl_list:\n",
    "            if iou(lbl, pred) >= iou_tres or is_contained(lbl, pred):\n",
    "                hit = True\n",
    "                break\n",
    "        if not hit:\n",
    "            log += ' '.join([txt, cls_dict[lbl['cls']], 'false positive']) + '\\n'\n",
    "            false_positives.append(txt)"
   ]
  },
  {
   "cell_type": "code",
   "execution_count": 13,
   "id": "ad90323b",
   "metadata": {
    "scrolled": true
   },
   "outputs": [
    {
     "name": "stdout",
     "output_type": "stream",
     "text": [
      "Label counts: {'male': 251, 'female': 195}\n"
     ]
    }
   ],
   "source": [
    "print('Label counts:', counters)"
   ]
  },
  {
   "cell_type": "code",
   "execution_count": 14,
   "id": "d815fa1a",
   "metadata": {},
   "outputs": [
    {
     "name": "stdout",
     "output_type": "stream",
     "text": [
      "miss lbl  FP   files\n",
      "0    5    3    8    \n"
     ]
    }
   ],
   "source": [
    "to_mark = [*set(misses+mislabels+false_positives)]\n",
    "print('miss lbl  FP   files')\n",
    "print('{:<5d}{:<5d}{:<5d}{:<5d}'.format(len(misses), len(mislabels), len(false_positives), len(to_mark)))"
   ]
  },
  {
   "cell_type": "code",
   "execution_count": 15,
   "id": "820a77c0",
   "metadata": {},
   "outputs": [],
   "source": [
    "if not os.path.isdir(path_out):\n",
    "    os.mkdir(path_out)"
   ]
  },
  {
   "cell_type": "code",
   "execution_count": 16,
   "id": "a439269f",
   "metadata": {},
   "outputs": [],
   "source": [
    "with open(os.path.join(path_out, 'log.txt'), 'w') as f:\n",
    "    f.write(log)\n",
    "    f.write('\\nmiss lbl  FP   files\\n')\n",
    "    f.write('{:<5d}{:<5d}{:<5d}{:<5d}\\n'.format(len(misses), len(mislabels), len(false_positives), len(to_mark)))\n",
    "    f.write('\\nLabel counts: ' + str(counters))"
   ]
  },
  {
   "cell_type": "markdown",
   "id": "d93f9895",
   "metadata": {},
   "source": [
    "# Mark Images with Differences"
   ]
  },
  {
   "cell_type": "code",
   "execution_count": 17,
   "id": "e11e93e5",
   "metadata": {},
   "outputs": [
    {
     "data": {
      "application/vnd.jupyter.widget-view+json": {
       "model_id": "af03f8d48c5948d49e0b71cc4368a38d",
       "version_major": 2,
       "version_minor": 0
      },
      "text/plain": [
       "visualizing:   0%|          | 0/8 [00:00<?, ?it/s]"
      ]
     },
     "metadata": {},
     "output_type": "display_data"
    }
   ],
   "source": [
    "for txt in tqdm(to_mark, desc='visualizing'):\n",
    "    pred_list = read_pred(os.path.join(path_a, txt))\n",
    "    lbl_list = read_lbl(os.path.join(path_b, txt))\n",
    "    img_filename = txt[:-3] + img_extension\n",
    "    src = os.path.join(path_img, img_filename)\n",
    "    dst = os.path.join(path_out, img_filename)\n",
    "    mark_img(src, dst, pred_list, lbl_list)"
   ]
  },
  {
   "cell_type": "code",
   "execution_count": null,
   "id": "9079bad4",
   "metadata": {},
   "outputs": [],
   "source": []
  }
 ],
 "metadata": {
  "kernelspec": {
   "display_name": "Python 3",
   "language": "python",
   "name": "python3"
  },
  "language_info": {
   "codemirror_mode": {
    "name": "ipython",
    "version": 3
   },
   "file_extension": ".py",
   "mimetype": "text/x-python",
   "name": "python",
   "nbconvert_exporter": "python",
   "pygments_lexer": "ipython3",
   "version": "3.8.8"
  }
 },
 "nbformat": 4,
 "nbformat_minor": 5
}
